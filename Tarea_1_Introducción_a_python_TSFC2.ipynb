{
  "nbformat": 4,
  "nbformat_minor": 0,
  "metadata": {
    "colab": {
      "provenance": []
    },
    "kernelspec": {
      "name": "python3",
      "display_name": "Python 3"
    },
    "language_info": {
      "name": "python"
    }
  },
  "cells": [
    {
      "cell_type": "markdown",
      "source": [
        "Autor: **Sebastián González Juárez**\n",
        "\n",
        "*Universidad Nacional Autónoma de México - Facultad de Ciencias.*\n",
        "# Tarea 1 - Introducción a python.\n"
      ],
      "metadata": {
        "id": "gkUsU4LE1lAj"
      }
    },
    {
      "cell_type": "markdown",
      "source": [
        "## 1. Hacer un programa que sume los primeros 50 números pares sin usar fórmulas.\n"
      ],
      "metadata": {
        "id": "eVAQ5EE32kDG"
      }
    },
    {
      "cell_type": "code",
      "execution_count": 3,
      "metadata": {
        "colab": {
          "base_uri": "https://localhost:8080/"
        },
        "id": "8vc6NwQR1AJW",
        "outputId": "b0b87f32-6877-4250-e861-1b6f76dbf035"
      },
      "outputs": [
        {
          "output_type": "stream",
          "name": "stdout",
          "text": [
            "La suma es: 2550\n"
          ]
        }
      ],
      "source": [
        "n = 0\n",
        "for i in range(2, 101, 2):\n",
        "  n = n + i\n",
        "print(\"La suma es:\", n)"
      ]
    },
    {
      "cell_type": "markdown",
      "source": [
        "## 2. Ordenar los elementos de una lista según el número de vocales que tiene cada palabra.\n"
      ],
      "metadata": {
        "id": "l1dcwL6g3dSA"
      }
    },
    {
      "cell_type": "code",
      "source": [
        "def contador(x):\n",
        "    vocales = \"aeiou\"\n",
        "    return sum(1 for y in x if y in vocales)"
      ],
      "metadata": {
        "id": "Dil1i6fo4BcA"
      },
      "execution_count": 4,
      "outputs": []
    },
    {
      "cell_type": "code",
      "source": [
        "lista2 = [\"amarillo\", \"rojo\", \"morado\"]\n",
        "ordenar = sorted(lista2, key=contador)\n",
        "print(ordenar)\n"
      ],
      "metadata": {
        "colab": {
          "base_uri": "https://localhost:8080/"
        },
        "id": "o9L4avI229Qt",
        "outputId": "be5a590d-9292-4f7f-ad12-a89189828939"
      },
      "execution_count": 7,
      "outputs": [
        {
          "output_type": "stream",
          "name": "stdout",
          "text": [
            "['rojo', 'morado', 'amarillo']\n"
          ]
        }
      ]
    },
    {
      "cell_type": "markdown",
      "source": [
        "## 3. Escriba una función que tome dos listas y devuelva True si tienen al menos un miembro común."
      ],
      "metadata": {
        "id": "7Xn9VJhi4i8I"
      }
    },
    {
      "cell_type": "code",
      "source": [
        "lista31 = [\"Manzana\", \"Kiwi\", \"Naranja\", \"Uva\", \"Aguacate\"]\n",
        "lista32 = [\"Aguacate\", \"Cebolla\", \"Ajo\", \"Lechuga\", \"Maíz\"]"
      ],
      "metadata": {
        "id": "k3O1HN2c4kuy"
      },
      "execution_count": 13,
      "outputs": []
    },
    {
      "cell_type": "code",
      "source": [
        "if set(lista31) & set(lista32):\n",
        "  print(True)\n",
        "else:\n",
        "  print(False)"
      ],
      "metadata": {
        "colab": {
          "base_uri": "https://localhost:8080/"
        },
        "id": "u10QnygE5Ztn",
        "outputId": "5e1c417c-c332-4015-a2fc-eac790757d41"
      },
      "execution_count": 14,
      "outputs": [
        {
          "output_type": "stream",
          "name": "stdout",
          "text": [
            "True\n"
          ]
        }
      ]
    },
    {
      "cell_type": "markdown",
      "source": [
        "## 4. Escriba un programa para obtener un string a partir de un string dado, donde todas las apariciones de su primer carácter se han cambiado a '$', excepto el primer carácter en sí.\n",
        "Sample String : 'restart'\n",
        "\n",
        "Expected Result : 'resta$t'"
      ],
      "metadata": {
        "id": "nACu2DU85y2I"
      }
    },
    {
      "cell_type": "code",
      "source": [
        "Sample = input(\"Ingrese una palabra: \")\n",
        "Result = Sample[0] + Sample[1:].replace(Sample[0], \"$\")\n",
        "print(Result)"
      ],
      "metadata": {
        "colab": {
          "base_uri": "https://localhost:8080/"
        },
        "id": "dCtJ08xj52sH",
        "outputId": "836f8114-1e21-41ab-d2bd-b5387b64fb93"
      },
      "execution_count": 25,
      "outputs": [
        {
          "output_type": "stream",
          "name": "stdout",
          "text": [
            "Ingrese una palabra: restart\n",
            "resta$t\n"
          ]
        }
      ]
    },
    {
      "cell_type": "markdown",
      "source": [
        "## 5. Escriba un programa que tome un string y calcula el número de dígitos y letras que contiene.\n",
        "Ejemplo: Dado el string \"hola23\", debería devolver:\n",
        "\n",
        "letras = 4 dígitos = 2"
      ],
      "metadata": {
        "id": "WPjtPepw78nG"
      }
    },
    {
      "cell_type": "code",
      "source": [
        "Palabra = input(\"Ingrese una palabra: \")\n",
        "letras = 0\n",
        "digitos = 0"
      ],
      "metadata": {
        "colab": {
          "base_uri": "https://localhost:8080/"
        },
        "id": "jNP1Q25N8B2z",
        "outputId": "6b4e3386-3e82-4b63-9172-419802721266"
      },
      "execution_count": 23,
      "outputs": [
        {
          "name": "stdout",
          "output_type": "stream",
          "text": [
            "Ingrese una palabra: hola23\n"
          ]
        }
      ]
    },
    {
      "cell_type": "code",
      "source": [
        "for i in Palabra:\n",
        "  if i.isalpha():\n",
        "    letras += 1\n",
        "  elif i.isdigit():\n",
        "    digitos += 1\n",
        "print(\"Letras:\", letras)\n",
        "print(\"Dígitos:\", digitos)"
      ],
      "metadata": {
        "colab": {
          "base_uri": "https://localhost:8080/"
        },
        "id": "WH5nfeKh8mFw",
        "outputId": "287004fb-9c9a-45a4-f599-74ce27809fbb"
      },
      "execution_count": 24,
      "outputs": [
        {
          "output_type": "stream",
          "name": "stdout",
          "text": [
            "Letras: 4\n",
            "Dígitos: 2\n"
          ]
        }
      ]
    },
    {
      "cell_type": "markdown",
      "source": [
        "## 6. Cree un programa para crear la tabla de multiplicar (del 1 al 10) de un número.\n"
      ],
      "metadata": {
        "id": "P9oEaMzy804H"
      }
    },
    {
      "cell_type": "code",
      "source": [
        "num = int(input(\"Ingrese un número: \"))\n",
        "print(\"Tabla de multiplicar:\")\n",
        "for i in range(1, 11):\n",
        "  m = num * i\n",
        "  print(f\"{i} x {num} = {m}\")"
      ],
      "metadata": {
        "colab": {
          "base_uri": "https://localhost:8080/"
        },
        "id": "F0nTyIKz82l_",
        "outputId": "3e04b6ea-449c-4e83-c6d2-b8b9ff76eb99"
      },
      "execution_count": 22,
      "outputs": [
        {
          "output_type": "stream",
          "name": "stdout",
          "text": [
            "Ingrese un número: 8\n",
            "Tabla de multiplicar:\n",
            "1 x 8 = 8\n",
            "2 x 8 = 16\n",
            "3 x 8 = 24\n",
            "4 x 8 = 32\n",
            "5 x 8 = 40\n",
            "6 x 8 = 48\n",
            "7 x 8 = 56\n",
            "8 x 8 = 64\n",
            "9 x 8 = 72\n",
            "10 x 8 = 80\n"
          ]
        }
      ]
    },
    {
      "cell_type": "markdown",
      "source": [
        "## 7. Escriba un programa para verificar la validez de la contraseña ingresada por los usuarios. Con las siguientes condiciones:\n",
        "- Al menos 1 letra entre [a-z] y 1 letra entre [A-Z].\n",
        "\n",
        "- Al menos 1 número entre [0-9].\n",
        "\n",
        "- Al menos 1 carácter de [$ # @].\n",
        "\n",
        "- Longitud mínima 6 caracteres.\n",
        "\n",
        "- Longitud máxima de 16 caracteres."
      ],
      "metadata": {
        "id": "Ca9ANWRx-DRW"
      }
    },
    {
      "cell_type": "code",
      "source": [
        "while True:\n",
        "  contraseña = input(\"Ingrese una contraseña: \")\n",
        "  if len(contraseña) < 6 or len(contraseña) > 16:\n",
        "    print(\"La contraseña debe tener entre 6 y 16 caracteres.\")\n",
        "  if contraseña.islower() or contraseña.isupper():\n",
        "    print(\"La contraseña debe tener al menos una letra mayúscula y una minúscula.\")\n",
        "  if not any(i.isdigit() for i in contraseña):\n",
        "    print(\"La contraseña debe tener al menos un número.\")\n",
        "  if not any(i in [\"$\", \"#\", \"@\"] for i in contraseña):\n",
        "    print(\"La contraseña debe tener al menos un carácter de $ # @.\")\n",
        "  else:\n",
        "    print(\"Contraseña válida.\")\n",
        "    break"
      ],
      "metadata": {
        "colab": {
          "base_uri": "https://localhost:8080/"
        },
        "id": "CorbIX8Q9oUs",
        "outputId": "16d53826-292b-4350-e57d-46b128acaf2a"
      },
      "execution_count": 27,
      "outputs": [
        {
          "output_type": "stream",
          "name": "stdout",
          "text": [
            "Ingrese una contraseña: 2E@zWin\n",
            "Contraseña válida.\n"
          ]
        }
      ]
    },
    {
      "cell_type": "markdown",
      "source": [
        "## 8. Escribe un programa para contar el número de ocurrencias de cada carácter en una cadena.\n",
        "Ejemplo: \"Mariana\"\n",
        "\n",
        "\"M\":1\n",
        "\n",
        "\"a\":3\n",
        "\n",
        "\"r:1\n",
        "\n",
        "\"i\":1\n",
        "\n",
        "\"n\":1"
      ],
      "metadata": {
        "id": "OCpWhxHu_Q3J"
      }
    },
    {
      "cell_type": "code",
      "source": [
        "listapalabra = list(input(\"Ingrese una palabra: \"))\n",
        "for i in list(set(listapalabra)):\n",
        "  print(i, \":\", listapalabra.count(i))"
      ],
      "metadata": {
        "colab": {
          "base_uri": "https://localhost:8080/"
        },
        "id": "H8NfkwVl_TJy",
        "outputId": "bdadd1a6-3e85-444f-a58c-fb38ee54044c"
      },
      "execution_count": 35,
      "outputs": [
        {
          "output_type": "stream",
          "name": "stdout",
          "text": [
            "Ingrese una palabra: Mariana\n",
            "n : 1\n",
            "r : 1\n",
            "a : 3\n",
            "M : 1\n",
            "i : 1\n"
          ]
        }
      ]
    },
    {
      "cell_type": "markdown",
      "source": [
        "## 9. Haz un función para que tome como parámetro un número n y una cadena no vacía, que devuelva una cadena con el n-ésimo carácter eliminado."
      ],
      "metadata": {
        "id": "l4kBx2t5A5iE"
      }
    },
    {
      "cell_type": "code",
      "source": [
        "def eliminar_caracter(cadena, n):\n",
        "    if n < 0 or n >= len(cadena):\n",
        "        return \"índice fuera de rango\"\n",
        "    return cadena[:n] + cadena[n+1:]\n",
        "Texto = input(\"Ingrese una palabra: \")\n",
        "n = int(input(\"Ingrese un número: \"))\n",
        "print(eliminar_caracter(Texto, n-1))"
      ],
      "metadata": {
        "colab": {
          "base_uri": "https://localhost:8080/"
        },
        "id": "QAO61iWdAyVo",
        "outputId": "2f214f40-8b52-4a9b-f385-4bd25efd819f"
      },
      "execution_count": 38,
      "outputs": [
        {
          "output_type": "stream",
          "name": "stdout",
          "text": [
            "Ingrese una palabra: eliminado\n",
            "Ingrese un número: 1\n",
            "liminado\n"
          ]
        }
      ]
    }
  ]
}