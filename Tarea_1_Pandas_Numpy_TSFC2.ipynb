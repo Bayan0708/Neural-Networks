{
  "nbformat": 4,
  "nbformat_minor": 0,
  "metadata": {
    "colab": {
      "provenance": []
    },
    "kernelspec": {
      "name": "python3",
      "display_name": "Python 3"
    },
    "language_info": {
      "name": "python"
    }
  },
  "cells": [
    {
      "cell_type": "markdown",
      "source": [
        "Autor: **Sebastián González Juárez**\n",
        "\n",
        "*Universidad Nacional Autónoma de México - Facultad de Ciencias.*\n",
        "# Tarea 1 - Pandas y Numpy."
      ],
      "metadata": {
        "id": "NMzp6linKYTh"
      }
    },
    {
      "cell_type": "code",
      "source": [
        "import pandas as pd\n",
        "import numpy as np\n",
        "from google.colab import drive"
      ],
      "metadata": {
        "id": "AKbuVbJkKwhT"
      },
      "execution_count": 54,
      "outputs": []
    },
    {
      "cell_type": "markdown",
      "source": [
        "## 1.\n",
        "Un concepto últil de manejar es el de Series, esto nos permite convertir listas, diccionarios y otros objetos de Python en objetos compatibles con Pandas."
      ],
      "metadata": {
        "id": "NnhCi3hLKkaY"
      }
    },
    {
      "cell_type": "markdown",
      "source": [
        "Objetos:"
      ],
      "metadata": {
        "id": "OxCwzppKLerO"
      }
    },
    {
      "cell_type": "code",
      "source": [
        "a_list = list('abcedfghijklmnopqrstuvwxyz')\n",
        "an_arr = np.arange(26)\n",
        "\n",
        "a_dict = dict(zip(a_list, an_arr))"
      ],
      "metadata": {
        "id": "8zG0VlSULgze"
      },
      "execution_count": 4,
      "outputs": []
    },
    {
      "cell_type": "markdown",
      "source": [
        "Convertirlos en Series:"
      ],
      "metadata": {
        "id": "jDw8xBhGLi3_"
      }
    },
    {
      "cell_type": "code",
      "source": [
        "# Lista → Serie\n",
        "serie_1 = pd.Series(a_list)\n",
        "print(\"Serie 1:\\n\", serie_1, \"\\n\")"
      ],
      "metadata": {
        "colab": {
          "base_uri": "https://localhost:8080/"
        },
        "id": "KJmnTpXTLk5i",
        "outputId": "082f575b-212a-42c0-deaa-437ae9604430"
      },
      "execution_count": 6,
      "outputs": [
        {
          "output_type": "stream",
          "name": "stdout",
          "text": [
            "Serie 1:\n",
            " 0     a\n",
            "1     b\n",
            "2     c\n",
            "3     e\n",
            "4     d\n",
            "5     f\n",
            "6     g\n",
            "7     h\n",
            "8     i\n",
            "9     j\n",
            "10    k\n",
            "11    l\n",
            "12    m\n",
            "13    n\n",
            "14    o\n",
            "15    p\n",
            "16    q\n",
            "17    r\n",
            "18    s\n",
            "19    t\n",
            "20    u\n",
            "21    v\n",
            "22    w\n",
            "23    x\n",
            "24    y\n",
            "25    z\n",
            "dtype: object \n",
            "\n"
          ]
        }
      ]
    },
    {
      "cell_type": "code",
      "source": [
        "# Arreglo de NumPy → Serie\n",
        "serie_2 = pd.Series(an_arr)\n",
        "print(\"Serie 2:\\n\", serie_2, \"\\n\")"
      ],
      "metadata": {
        "colab": {
          "base_uri": "https://localhost:8080/"
        },
        "id": "zBCmGxFKLopH",
        "outputId": "35b4aac6-df57-4a11-91b1-2db5ad55c6fc"
      },
      "execution_count": 7,
      "outputs": [
        {
          "output_type": "stream",
          "name": "stdout",
          "text": [
            "Serie 2:\n",
            " 0      0\n",
            "1      1\n",
            "2      2\n",
            "3      3\n",
            "4      4\n",
            "5      5\n",
            "6      6\n",
            "7      7\n",
            "8      8\n",
            "9      9\n",
            "10    10\n",
            "11    11\n",
            "12    12\n",
            "13    13\n",
            "14    14\n",
            "15    15\n",
            "16    16\n",
            "17    17\n",
            "18    18\n",
            "19    19\n",
            "20    20\n",
            "21    21\n",
            "22    22\n",
            "23    23\n",
            "24    24\n",
            "25    25\n",
            "dtype: int64 \n",
            "\n"
          ]
        }
      ]
    },
    {
      "cell_type": "code",
      "source": [
        "# Diccionario → Serie\n",
        "serie_3 = pd.Series(a_dict)\n",
        "print(\"Serie 3:\\n\", serie_3, \"\\n\")"
      ],
      "metadata": {
        "colab": {
          "base_uri": "https://localhost:8080/"
        },
        "id": "gk7dhLKnLxWe",
        "outputId": "e9b744e6-415d-4d6b-e207-04d429f63c1d"
      },
      "execution_count": 8,
      "outputs": [
        {
          "output_type": "stream",
          "name": "stdout",
          "text": [
            "Serie 3:\n",
            " a     0\n",
            "b     1\n",
            "c     2\n",
            "e     3\n",
            "d     4\n",
            "f     5\n",
            "g     6\n",
            "h     7\n",
            "i     8\n",
            "j     9\n",
            "k    10\n",
            "l    11\n",
            "m    12\n",
            "n    13\n",
            "o    14\n",
            "p    15\n",
            "q    16\n",
            "r    17\n",
            "s    18\n",
            "t    19\n",
            "u    20\n",
            "v    21\n",
            "w    22\n",
            "x    23\n",
            "y    24\n",
            "z    25\n",
            "dtype: int64 \n",
            "\n"
          ]
        }
      ]
    },
    {
      "cell_type": "markdown",
      "source": [
        "**Pregunta**: ¿Qué hace el método ZIP() con el que se define el diccionario para la última serie?\n",
        "\n",
        "**Respuesta**: El método ZIP se usa para unir dos o más iterables (elemento por elemento)."
      ],
      "metadata": {
        "id": "havlsDDvL6Z6"
      }
    },
    {
      "cell_type": "code",
      "source": [
        "a_dict = dict(zip(a_list, an_arr))\n",
        "print(a_dict)"
      ],
      "metadata": {
        "colab": {
          "base_uri": "https://localhost:8080/"
        },
        "id": "N9cZBgFuMFn6",
        "outputId": "dd016f08-6145-4482-f0f2-2b4f6d890656"
      },
      "execution_count": 10,
      "outputs": [
        {
          "output_type": "stream",
          "name": "stdout",
          "text": [
            "{'a': np.int64(0), 'b': np.int64(1), 'c': np.int64(2), 'e': np.int64(3), 'd': np.int64(4), 'f': np.int64(5), 'g': np.int64(6), 'h': np.int64(7), 'i': np.int64(8), 'j': np.int64(9), 'k': np.int64(10), 'l': np.int64(11), 'm': np.int64(12), 'n': np.int64(13), 'o': np.int64(14), 'p': np.int64(15), 'q': np.int64(16), 'r': np.int64(17), 's': np.int64(18), 't': np.int64(19), 'u': np.int64(20), 'v': np.int64(21), 'w': np.int64(22), 'x': np.int64(23), 'y': np.int64(24), 'z': np.int64(25)}\n"
          ]
        }
      ]
    },
    {
      "cell_type": "markdown",
      "source": [
        "## 2.\n",
        "Convierte las primeras 2 series generadas arriba en un dataframe.\n",
        "\n",
        "**Sugerencia**: investiga el método \"Reset Index\" aplicado a los dataframes y aplícalo a tu dataframe."
      ],
      "metadata": {
        "id": "DrhaT2bRMhta"
      }
    },
    {
      "cell_type": "code",
      "source": [
        "a_list = list('abcedfghijklmnopqrstuvwxyz')\n",
        "an_arr = np.arange(26)"
      ],
      "metadata": {
        "id": "U4VWogdyMnLv"
      },
      "execution_count": 11,
      "outputs": []
    },
    {
      "cell_type": "code",
      "source": [
        "serie_1 = pd.Series(a_list)\n",
        "serie_2 = pd.Series(an_arr)"
      ],
      "metadata": {
        "id": "2LXSw_8SMyJZ"
      },
      "execution_count": 12,
      "outputs": []
    },
    {
      "cell_type": "code",
      "source": [
        "# Convertir en DataFrame\n",
        "df = pd.DataFrame({\"letras\": serie_1, \"numeros\": serie_2})\n",
        "print(\"DataFrame original:\\n\", df.head(), \"\\n\")"
      ],
      "metadata": {
        "colab": {
          "base_uri": "https://localhost:8080/"
        },
        "id": "TeVPcqWMM2JN",
        "outputId": "68d595fb-ff83-4eb4-dfad-5e589bec2e8e"
      },
      "execution_count": 13,
      "outputs": [
        {
          "output_type": "stream",
          "name": "stdout",
          "text": [
            "DataFrame original:\n",
            "   letras  numeros\n",
            "0      a        0\n",
            "1      b        1\n",
            "2      c        2\n",
            "3      e        3\n",
            "4      d        4 \n",
            "\n"
          ]
        }
      ]
    },
    {
      "cell_type": "code",
      "source": [
        "# Sugerencia de aplicar reset_index\n",
        "df_reset = df.reset_index(drop=True)\n",
        "print(\"DataFrame con reset_index:\\n\", df_reset.head())"
      ],
      "metadata": {
        "colab": {
          "base_uri": "https://localhost:8080/"
        },
        "id": "i37KSxT8M4az",
        "outputId": "5ee10617-f06e-4298-a799-f002d70f37d9"
      },
      "execution_count": 14,
      "outputs": [
        {
          "output_type": "stream",
          "name": "stdout",
          "text": [
            "DataFrame con reset_index:\n",
            "   letras  numeros\n",
            "0      a        0\n",
            "1      b        1\n",
            "2      c        2\n",
            "3      e        3\n",
            "4      d        4\n"
          ]
        }
      ]
    },
    {
      "cell_type": "markdown",
      "source": [
        "**¿Qué pasa si no lo aplicas?**\n",
        "\n",
        "Reset Index sirve para reenumerar el índice del DataFrame de 0 a n-1. Al no aplicarlo, el índice original de las Series se conserva.\n",
        "\n",
        "En este caso no paso nada, pero por ejemplo:"
      ],
      "metadata": {
        "id": "JKoqSGnFNLsF"
      }
    },
    {
      "cell_type": "code",
      "source": [
        "serie_1 = pd.Series(list(\"abcdef\"), index=[0, 1, 2, 3, 4, 5])\n",
        "serie_2 = pd.Series(range(6), index=[10, 11, 12, 13, 14, 15])\n",
        "\n",
        "print(\"Serie 1:\\n\", serie_1, \"\\n\")\n",
        "print(\"Serie 2:\\n\", serie_2, \"\\n\")"
      ],
      "metadata": {
        "colab": {
          "base_uri": "https://localhost:8080/"
        },
        "id": "twCMfy8yNdOW",
        "outputId": "6f3e2c07-7ac4-46ef-8a10-27da93915763"
      },
      "execution_count": 15,
      "outputs": [
        {
          "output_type": "stream",
          "name": "stdout",
          "text": [
            "Serie 1:\n",
            " 0    a\n",
            "1    b\n",
            "2    c\n",
            "3    d\n",
            "4    e\n",
            "5    f\n",
            "dtype: object \n",
            "\n",
            "Serie 2:\n",
            " 10    0\n",
            "11    1\n",
            "12    2\n",
            "13    3\n",
            "14    4\n",
            "15    5\n",
            "dtype: int64 \n",
            "\n"
          ]
        }
      ]
    },
    {
      "cell_type": "code",
      "source": [
        "# DataFrame sin reset_index\n",
        "df = pd.DataFrame({\"letras\": serie_1, \"numeros\": serie_2})\n",
        "print(\"DataFrame sin reset_index:\\n\", df, \"\\n\")\n",
        "\n",
        "# DataFrame con reset_index\n",
        "df_reset = df.reset_index(drop=True)\n",
        "print(\"DataFrame con reset_index:\\n\", df_reset)"
      ],
      "metadata": {
        "colab": {
          "base_uri": "https://localhost:8080/"
        },
        "id": "l3-N_A4FNhqi",
        "outputId": "893450b9-3ef2-40ac-c529-6bcaccb819bf"
      },
      "execution_count": 16,
      "outputs": [
        {
          "output_type": "stream",
          "name": "stdout",
          "text": [
            "DataFrame sin reset_index:\n",
            "    letras  numeros\n",
            "0       a      NaN\n",
            "1       b      NaN\n",
            "2       c      NaN\n",
            "3       d      NaN\n",
            "4       e      NaN\n",
            "5       f      NaN\n",
            "10    NaN      0.0\n",
            "11    NaN      1.0\n",
            "12    NaN      2.0\n",
            "13    NaN      3.0\n",
            "14    NaN      4.0\n",
            "15    NaN      5.0 \n",
            "\n",
            "DataFrame con reset_index:\n",
            "    letras  numeros\n",
            "0       a      NaN\n",
            "1       b      NaN\n",
            "2       c      NaN\n",
            "3       d      NaN\n",
            "4       e      NaN\n",
            "5       f      NaN\n",
            "6     NaN      0.0\n",
            "7     NaN      1.0\n",
            "8     NaN      2.0\n",
            "9     NaN      3.0\n",
            "10    NaN      4.0\n",
            "11    NaN      5.0\n"
          ]
        }
      ]
    },
    {
      "cell_type": "markdown",
      "source": [
        "- Sin reset_index → Pandas conserva los índices originales y los alinea.\n",
        "\n",
        "- Con reset_index → se reinicia el índice a 0,1,2,... aunque los datos tengan huecos."
      ],
      "metadata": {
        "id": "4lm4jjcxNtwP"
      }
    },
    {
      "cell_type": "markdown",
      "source": [
        "## 3.\n",
        "Dadas las siguientes series, encuentra todos los elementos de la serie 1 que se **encuentran** en la serie 2 y viceversa. Después encuentra todos los elementos de la serie 1 que NO están en la serie 2 y viceversa."
      ],
      "metadata": {
        "id": "0PvxIY2pOz-A"
      }
    },
    {
      "cell_type": "code",
      "source": [
        "serie_1 = pd.Series([1, 2, 3, 4, 5])\n",
        "serie_2 = pd.Series([4, 5, 6, 7, 8])"
      ],
      "metadata": {
        "id": "Mo9AAiYhNu9N"
      },
      "execution_count": 17,
      "outputs": []
    },
    {
      "cell_type": "markdown",
      "source": [
        "**Sugerencia**: Podemos invertir valores booleanos utilizando el simbolo ~ en Series de Pandas\n",
        "\n"
      ],
      "metadata": {
        "id": "j9FSAtGlPCxJ"
      }
    },
    {
      "cell_type": "code",
      "source": [
        "#EJEMPLO\n",
        "a_serie = pd.Series([True, False, True])\n",
        "print(~a_serie)"
      ],
      "metadata": {
        "colab": {
          "base_uri": "https://localhost:8080/"
        },
        "id": "DnTP3_FsPFWy",
        "outputId": "71eb881c-f8b2-4d8c-9177-efa5cd5d3a70"
      },
      "execution_count": 18,
      "outputs": [
        {
          "output_type": "stream",
          "name": "stdout",
          "text": [
            "0    False\n",
            "1     True\n",
            "2    False\n",
            "dtype: bool\n"
          ]
        }
      ]
    },
    {
      "cell_type": "markdown",
      "source": [
        "Elementos en común:"
      ],
      "metadata": {
        "id": "bKY1St8vP88M"
      }
    },
    {
      "cell_type": "code",
      "source": [
        "encomun1 = serie_1.isin(serie_2)\n",
        "print(\"Elementos de serie_1 que están en serie_2:\\n\", encomun1, \"\\n\")\n",
        "\n",
        "encomun2 = serie_2.isin(serie_1)\n",
        "print(\"Elementos de serie_2 que están en serie_1:\\n\", encomun2)"
      ],
      "metadata": {
        "colab": {
          "base_uri": "https://localhost:8080/"
        },
        "id": "E9s4FdqBP5mW",
        "outputId": "aaf37c41-a9f9-4e37-bdf5-3df0c004851c"
      },
      "execution_count": 26,
      "outputs": [
        {
          "output_type": "stream",
          "name": "stdout",
          "text": [
            "Elementos de serie_1 que están en serie_2:\n",
            " 0    False\n",
            "1    False\n",
            "2    False\n",
            "3     True\n",
            "4     True\n",
            "dtype: bool \n",
            "\n",
            "Elementos de serie_2 que están en serie_1:\n",
            " 0     True\n",
            "1     True\n",
            "2    False\n",
            "3    False\n",
            "4    False\n",
            "dtype: bool\n"
          ]
        }
      ]
    },
    {
      "cell_type": "code",
      "source": [
        "print(\"Elementos de serie_1 que no están en serie_2:\\n\", ~ encomun1, \"\\n\")\n",
        "print(\"Elementos de serie_2 que no están en serie_1:\\n\", ~ encomun2)"
      ],
      "metadata": {
        "colab": {
          "base_uri": "https://localhost:8080/"
        },
        "id": "wtCQFPlSQPx3",
        "outputId": "9deab1e0-4a8d-4745-8a54-21a2ec5b30fe"
      },
      "execution_count": 27,
      "outputs": [
        {
          "output_type": "stream",
          "name": "stdout",
          "text": [
            "Elementos de serie_1 que no están en serie_2:\n",
            " 0     True\n",
            "1     True\n",
            "2     True\n",
            "3    False\n",
            "4    False\n",
            "dtype: bool \n",
            "\n",
            "Elementos de serie_2 que no están en serie_1:\n",
            " 0    False\n",
            "1    False\n",
            "2     True\n",
            "3     True\n",
            "4     True\n",
            "dtype: bool\n"
          ]
        }
      ]
    },
    {
      "cell_type": "code",
      "source": [
        "junta = pd.concat([encomun1, encomun2], ignore_index=True)\n",
        "print(\"Elementos que NO se comparten entre las series en una misma serie:\\n\", junta)"
      ],
      "metadata": {
        "colab": {
          "base_uri": "https://localhost:8080/"
        },
        "id": "PEGvhl0rRbfN",
        "outputId": "7fb90c37-216d-4587-8fc1-51c3da7b3ca5"
      },
      "execution_count": 31,
      "outputs": [
        {
          "output_type": "stream",
          "name": "stdout",
          "text": [
            "Elementos que NO se comparten entre las series en una misma serie:\n",
            " 0    False\n",
            "1    False\n",
            "2    False\n",
            "3     True\n",
            "4     True\n",
            "5     True\n",
            "6     True\n",
            "7    False\n",
            "8    False\n",
            "9    False\n",
            "dtype: bool\n"
          ]
        }
      ]
    },
    {
      "cell_type": "code",
      "source": [
        "NoComp = pd.concat ([serie_1[~serie_1.isin(serie_2)], serie_2[~serie_2.isin(serie_1)]])\n",
        "print(\"Elementos que NO se comparten entre las series:\\n\", NoComp)"
      ],
      "metadata": {
        "colab": {
          "base_uri": "https://localhost:8080/"
        },
        "id": "wywnE4XJRx7y",
        "outputId": "d0c6559c-8e69-4dfd-ea14-f442256c4c35"
      },
      "execution_count": 34,
      "outputs": [
        {
          "output_type": "stream",
          "name": "stdout",
          "text": [
            "Elementos que NO se comparten entre las series:\n",
            " 0    1\n",
            "1    2\n",
            "2    3\n",
            "2    6\n",
            "3    7\n",
            "4    8\n",
            "dtype: int64\n"
          ]
        }
      ]
    },
    {
      "cell_type": "markdown",
      "source": [
        "## 4.\n",
        "Cuando trabajamos con números generados \"aleatoreamente\" una forma útil de reproducir nuestros resultados es utilizando \"semillas\", estas son un número a partir del cual Numpy generará los arreglos de números aleatoreos.\n",
        "\n",
        "Por ejemplo:"
      ],
      "metadata": {
        "id": "Kh4y7UkUSnWc"
      }
    },
    {
      "cell_type": "code",
      "source": [
        "#Definimos una semilla utilizando el método de Numpy \"random.seed()\" y colocando un número entre los paréntesis.\n",
        "#En este caso se colocó el número 7.\n",
        "np.random.seed(7) #7"
      ],
      "metadata": {
        "id": "b3ihG3HrSpGg"
      },
      "execution_count": 35,
      "outputs": []
    },
    {
      "cell_type": "markdown",
      "source": [
        "Utilizando el método de Numpy: random.randint() podemos generar un arreglo de 30 números enteros entre 0 y 10."
      ],
      "metadata": {
        "id": "UOD8j1uETa0e"
      }
    },
    {
      "cell_type": "code",
      "source": [
        "random_array = np.random.randint(0,10, size=(30))\n",
        "random_array"
      ],
      "metadata": {
        "colab": {
          "base_uri": "https://localhost:8080/"
        },
        "id": "YEtimE6JTbwq",
        "outputId": "8dc32114-9324-4b7f-d059-dbf6ee6659cd"
      },
      "execution_count": 36,
      "outputs": [
        {
          "output_type": "execute_result",
          "data": {
            "text/plain": [
              "array([4, 9, 6, 3, 3, 7, 7, 9, 7, 8, 9, 8, 7, 6, 4, 0, 7, 0, 7, 6, 3, 5,\n",
              "       8, 8, 7, 5, 0, 0, 2, 8])"
            ]
          },
          "metadata": {},
          "execution_count": 36
        }
      ]
    },
    {
      "cell_type": "markdown",
      "source": [
        "Dada la siguiente lista:"
      ],
      "metadata": {
        "id": "NuM-5CmMThEj"
      }
    },
    {
      "cell_type": "code",
      "source": [
        "a_list = list('abcdefghij')\n",
        "a_list"
      ],
      "metadata": {
        "colab": {
          "base_uri": "https://localhost:8080/"
        },
        "id": "-dmE29JsTfPd",
        "outputId": "ad85770a-c974-4c9c-8f03-c562347a7bbf"
      },
      "execution_count": 37,
      "outputs": [
        {
          "output_type": "execute_result",
          "data": {
            "text/plain": [
              "['a', 'b', 'c', 'd', 'e', 'f', 'g', 'h', 'i', 'j']"
            ]
          },
          "metadata": {},
          "execution_count": 37
        }
      ]
    },
    {
      "cell_type": "markdown",
      "source": [
        "Obtén la letra correspondiente a cada valor numérico en el arreglo aleatorio.\n",
        "\n",
        "Por ejemplo, el primer valor del arreglo es 4, entonces la letra correspondiente es la \"e\" (recordar que Python cuenta a partir de 0). El segundo valor del arreglo aleatorio es el 9, entonces la letra correspondiente es la \"j\". Y así consecutivamente.\n",
        "\n",
        "Guarda tus resultados en un arreglo de Numpy."
      ],
      "metadata": {
        "id": "WSuMwiIJTlES"
      }
    },
    {
      "cell_type": "code",
      "source": [
        "letras = np.array(a_list)\n",
        "letras"
      ],
      "metadata": {
        "colab": {
          "base_uri": "https://localhost:8080/"
        },
        "id": "VXvZ3eOfTjdE",
        "outputId": "ea33a351-3ea5-4728-f266-fd716577bcdf"
      },
      "execution_count": 43,
      "outputs": [
        {
          "output_type": "execute_result",
          "data": {
            "text/plain": [
              "array(['a', 'b', 'c', 'd', 'e', 'f', 'g', 'h', 'i', 'j'], dtype='<U1')"
            ]
          },
          "metadata": {},
          "execution_count": 43
        }
      ]
    },
    {
      "cell_type": "code",
      "source": [
        "mapeo = letras[random_array]\n",
        "mapeo"
      ],
      "metadata": {
        "colab": {
          "base_uri": "https://localhost:8080/"
        },
        "id": "FfRQfMIxUTgv",
        "outputId": "1975f869-82d7-4217-b2fe-d0be9f8387e7"
      },
      "execution_count": 45,
      "outputs": [
        {
          "output_type": "execute_result",
          "data": {
            "text/plain": [
              "array(['e', 'j', 'g', 'd', 'd', 'h', 'h', 'j', 'h', 'i', 'j', 'i', 'h',\n",
              "       'g', 'e', 'a', 'h', 'a', 'h', 'g', 'd', 'f', 'i', 'i', 'h', 'f',\n",
              "       'a', 'a', 'c', 'i'], dtype='<U1')"
            ]
          },
          "metadata": {},
          "execution_count": 45
        }
      ]
    },
    {
      "cell_type": "markdown",
      "source": [
        "Determina cuántas veces aparece cada letra en tu arreglo."
      ],
      "metadata": {
        "id": "uke5QGNmT3Br"
      }
    },
    {
      "cell_type": "code",
      "source": [
        "unique_letters, counts = np.unique(mapeo, return_counts=True)\n",
        "\n",
        "for letra, cuenta in zip(unique_letters, counts):\n",
        "    print(f\"'{letra}' aparece {cuenta} veces\")"
      ],
      "metadata": {
        "colab": {
          "base_uri": "https://localhost:8080/"
        },
        "id": "xaqNPqc_T3e7",
        "outputId": "a1cde561-6670-4130-b8ee-0378d07e4d10"
      },
      "execution_count": 48,
      "outputs": [
        {
          "output_type": "stream",
          "name": "stdout",
          "text": [
            "'a' aparece 4 veces\n",
            "'c' aparece 1 veces\n",
            "'d' aparece 3 veces\n",
            "'e' aparece 2 veces\n",
            "'f' aparece 2 veces\n",
            "'g' aparece 3 veces\n",
            "'h' aparece 7 veces\n",
            "'i' aparece 5 veces\n",
            "'j' aparece 3 veces\n"
          ]
        }
      ]
    },
    {
      "cell_type": "markdown",
      "source": [
        "## 5.\n",
        "Dada la siguiente serie:"
      ],
      "metadata": {
        "id": "FpCeg3nKVcpw"
      }
    },
    {
      "cell_type": "code",
      "source": [
        "serie_letters = pd.Series(list('abcdefghijklmnopqrstuvwxyz'))\n",
        "serie_letters"
      ],
      "metadata": {
        "colab": {
          "base_uri": "https://localhost:8080/",
          "height": 899
        },
        "id": "NvmYuzjBVerj",
        "outputId": "2d04a578-f02a-4407-f1a6-ceac29e917ce"
      },
      "execution_count": 49,
      "outputs": [
        {
          "output_type": "execute_result",
          "data": {
            "text/plain": [
              "0     a\n",
              "1     b\n",
              "2     c\n",
              "3     d\n",
              "4     e\n",
              "5     f\n",
              "6     g\n",
              "7     h\n",
              "8     i\n",
              "9     j\n",
              "10    k\n",
              "11    l\n",
              "12    m\n",
              "13    n\n",
              "14    o\n",
              "15    p\n",
              "16    q\n",
              "17    r\n",
              "18    s\n",
              "19    t\n",
              "20    u\n",
              "21    v\n",
              "22    w\n",
              "23    x\n",
              "24    y\n",
              "25    z\n",
              "dtype: object"
            ],
            "text/html": [
              "<div>\n",
              "<style scoped>\n",
              "    .dataframe tbody tr th:only-of-type {\n",
              "        vertical-align: middle;\n",
              "    }\n",
              "\n",
              "    .dataframe tbody tr th {\n",
              "        vertical-align: top;\n",
              "    }\n",
              "\n",
              "    .dataframe thead th {\n",
              "        text-align: right;\n",
              "    }\n",
              "</style>\n",
              "<table border=\"1\" class=\"dataframe\">\n",
              "  <thead>\n",
              "    <tr style=\"text-align: right;\">\n",
              "      <th></th>\n",
              "      <th>0</th>\n",
              "    </tr>\n",
              "  </thead>\n",
              "  <tbody>\n",
              "    <tr>\n",
              "      <th>0</th>\n",
              "      <td>a</td>\n",
              "    </tr>\n",
              "    <tr>\n",
              "      <th>1</th>\n",
              "      <td>b</td>\n",
              "    </tr>\n",
              "    <tr>\n",
              "      <th>2</th>\n",
              "      <td>c</td>\n",
              "    </tr>\n",
              "    <tr>\n",
              "      <th>3</th>\n",
              "      <td>d</td>\n",
              "    </tr>\n",
              "    <tr>\n",
              "      <th>4</th>\n",
              "      <td>e</td>\n",
              "    </tr>\n",
              "    <tr>\n",
              "      <th>5</th>\n",
              "      <td>f</td>\n",
              "    </tr>\n",
              "    <tr>\n",
              "      <th>6</th>\n",
              "      <td>g</td>\n",
              "    </tr>\n",
              "    <tr>\n",
              "      <th>7</th>\n",
              "      <td>h</td>\n",
              "    </tr>\n",
              "    <tr>\n",
              "      <th>8</th>\n",
              "      <td>i</td>\n",
              "    </tr>\n",
              "    <tr>\n",
              "      <th>9</th>\n",
              "      <td>j</td>\n",
              "    </tr>\n",
              "    <tr>\n",
              "      <th>10</th>\n",
              "      <td>k</td>\n",
              "    </tr>\n",
              "    <tr>\n",
              "      <th>11</th>\n",
              "      <td>l</td>\n",
              "    </tr>\n",
              "    <tr>\n",
              "      <th>12</th>\n",
              "      <td>m</td>\n",
              "    </tr>\n",
              "    <tr>\n",
              "      <th>13</th>\n",
              "      <td>n</td>\n",
              "    </tr>\n",
              "    <tr>\n",
              "      <th>14</th>\n",
              "      <td>o</td>\n",
              "    </tr>\n",
              "    <tr>\n",
              "      <th>15</th>\n",
              "      <td>p</td>\n",
              "    </tr>\n",
              "    <tr>\n",
              "      <th>16</th>\n",
              "      <td>q</td>\n",
              "    </tr>\n",
              "    <tr>\n",
              "      <th>17</th>\n",
              "      <td>r</td>\n",
              "    </tr>\n",
              "    <tr>\n",
              "      <th>18</th>\n",
              "      <td>s</td>\n",
              "    </tr>\n",
              "    <tr>\n",
              "      <th>19</th>\n",
              "      <td>t</td>\n",
              "    </tr>\n",
              "    <tr>\n",
              "      <th>20</th>\n",
              "      <td>u</td>\n",
              "    </tr>\n",
              "    <tr>\n",
              "      <th>21</th>\n",
              "      <td>v</td>\n",
              "    </tr>\n",
              "    <tr>\n",
              "      <th>22</th>\n",
              "      <td>w</td>\n",
              "    </tr>\n",
              "    <tr>\n",
              "      <th>23</th>\n",
              "      <td>x</td>\n",
              "    </tr>\n",
              "    <tr>\n",
              "      <th>24</th>\n",
              "      <td>y</td>\n",
              "    </tr>\n",
              "    <tr>\n",
              "      <th>25</th>\n",
              "      <td>z</td>\n",
              "    </tr>\n",
              "  </tbody>\n",
              "</table>\n",
              "</div><br><label><b>dtype:</b> object</label>"
            ]
          },
          "metadata": {},
          "execution_count": 49
        }
      ]
    },
    {
      "cell_type": "markdown",
      "source": [
        "Obtén la letra en las siguientes posiciones:"
      ],
      "metadata": {
        "id": "-O1ViDOwVsOj"
      }
    },
    {
      "cell_type": "code",
      "source": [
        "positions = [0, 4, 8, 14, 20]"
      ],
      "metadata": {
        "id": "XJbk23iJVto3"
      },
      "execution_count": 50,
      "outputs": []
    },
    {
      "cell_type": "code",
      "source": [
        "posiciones = serie_letters.iloc[positions]\n",
        "print(posiciones)"
      ],
      "metadata": {
        "colab": {
          "base_uri": "https://localhost:8080/"
        },
        "id": "keuyr_4nVuTn",
        "outputId": "16aa58c0-8b77-430e-9f50-134be9e1dc47"
      },
      "execution_count": 51,
      "outputs": [
        {
          "output_type": "stream",
          "name": "stdout",
          "text": [
            "0     a\n",
            "4     e\n",
            "8     i\n",
            "14    o\n",
            "20    u\n",
            "dtype: object\n"
          ]
        }
      ]
    },
    {
      "cell_type": "markdown",
      "source": [
        "## 6.\n",
        "Utilizando el archivo CSV unique_m.csv, determina el número de compuestos que tienen hidrógeno en su composición y que tienen una temperatura crítica inferior a los 100 Kelvin."
      ],
      "metadata": {
        "id": "o2YrUVe_WACx"
      }
    },
    {
      "cell_type": "code",
      "source": [
        "drive.mount('/content/drive')\n",
        "path = \"/content/drive/MyDrive/TSFC2_Redes_Neuronales/unique_m.csv\"\n",
        "df = pd.read_csv(path)"
      ],
      "metadata": {
        "colab": {
          "base_uri": "https://localhost:8080/"
        },
        "id": "90usMbhIW7W0",
        "outputId": "81e7adf8-c028-41c2-de2d-69f813e018d2"
      },
      "execution_count": 55,
      "outputs": [
        {
          "output_type": "stream",
          "name": "stdout",
          "text": [
            "Mounted at /content/drive\n"
          ]
        }
      ]
    },
    {
      "cell_type": "code",
      "source": [
        "print(df.head())"
      ],
      "metadata": {
        "colab": {
          "base_uri": "https://localhost:8080/"
        },
        "id": "1oBaJGbqWIcj",
        "outputId": "e9e37271-b9b0-4e81-99b8-665c0f43205c"
      },
      "execution_count": 56,
      "outputs": [
        {
          "output_type": "stream",
          "name": "stdout",
          "text": [
            "     H  He   Li   Be    B    C    N    O    F  Ne  ...   Au   Hg   Tl   Pb  \\\n",
            "0  0.0   0  0.0  0.0  0.0  0.0  0.0  4.0  0.0   0  ...  0.0  0.0  0.0  0.0   \n",
            "1  0.0   0  0.0  0.0  0.0  0.0  0.0  4.0  0.0   0  ...  0.0  0.0  0.0  0.0   \n",
            "2  0.0   0  0.0  0.0  0.0  0.0  0.0  4.0  0.0   0  ...  0.0  0.0  0.0  0.0   \n",
            "3  0.0   0  0.0  0.0  0.0  0.0  0.0  4.0  0.0   0  ...  0.0  0.0  0.0  0.0   \n",
            "4  0.0   0  0.0  0.0  0.0  0.0  0.0  4.0  0.0   0  ...  0.0  0.0  0.0  0.0   \n",
            "\n",
            "    Bi  Po  At  Rn  critical_temp                material  \n",
            "0  0.0   0   0   0           29.0         Ba0.2La1.8Cu1O4  \n",
            "1  0.0   0   0   0           26.0  Ba0.1La1.9Ag0.1Cu0.9O4  \n",
            "2  0.0   0   0   0           19.0         Ba0.1La1.9Cu1O4  \n",
            "3  0.0   0   0   0           22.0       Ba0.15La1.85Cu1O4  \n",
            "4  0.0   0   0   0           23.0         Ba0.3La1.7Cu1O4  \n",
            "\n",
            "[5 rows x 88 columns]\n"
          ]
        }
      ]
    },
    {
      "cell_type": "markdown",
      "source": [
        "Asegurar tipos numéricos"
      ],
      "metadata": {
        "id": "eYvVdRPWXi7I"
      }
    },
    {
      "cell_type": "code",
      "source": [
        "df['H'] = pd.to_numeric(df.get('H', 0), errors='coerce').fillna(0)\n",
        "df['critical_temp'] = pd.to_numeric(df.get('critical_temp'), errors='coerce')"
      ],
      "metadata": {
        "id": "ypZ3JxPlXTtn"
      },
      "execution_count": 58,
      "outputs": []
    },
    {
      "cell_type": "markdown",
      "source": [
        "Filtro: H en composición y Tc < 100 K"
      ],
      "metadata": {
        "id": "2f7QBW2AXkTR"
      }
    },
    {
      "cell_type": "code",
      "source": [
        "mask = (df['H'] > 0) & (df['critical_temp'] < 100)"
      ],
      "metadata": {
        "id": "O04dwb0kXks-"
      },
      "execution_count": 59,
      "outputs": []
    },
    {
      "cell_type": "markdown",
      "source": [
        "conteo"
      ],
      "metadata": {
        "id": "fVZVMTpTXxuA"
      }
    },
    {
      "cell_type": "code",
      "source": [
        "count = int(mask.sum())\n",
        "print(\"Número de compuestos con H y Tc < 100 K:\", count)"
      ],
      "metadata": {
        "colab": {
          "base_uri": "https://localhost:8080/"
        },
        "id": "DwcJFqRTXlwS",
        "outputId": "90c8b5ba-434a-4258-9ea1-283961f59cf1"
      },
      "execution_count": 60,
      "outputs": [
        {
          "output_type": "stream",
          "name": "stdout",
          "text": [
            "Número de compuestos con H y Tc < 100 K: 296\n"
          ]
        }
      ]
    },
    {
      "cell_type": "code",
      "source": [
        "cols_to_show = [c for c in ['material', 'H', 'critical_temp'] if c in df.columns]\n",
        "print(df.loc[mask, cols_to_show].head(10))"
      ],
      "metadata": {
        "colab": {
          "base_uri": "https://localhost:8080/"
        },
        "id": "68NxYndMX193",
        "outputId": "4d2001f3-5a22-4f02-ac8e-df1bea1aabea"
      },
      "execution_count": 61,
      "outputs": [
        {
          "output_type": "stream",
          "name": "stdout",
          "text": [
            "             material     H  critical_temp\n",
            "135   Y1Ba2Cu3H0.14O7  0.14          92.50\n",
            "136   Y1Ba2Cu3H0.48O7  0.48          93.60\n",
            "137      Y1Ba2Cu3H1O7  1.00          93.20\n",
            "311       Y1Ba2Cu3HO7  1.00          90.00\n",
            "312       Y1Ba2Cu3HO7  1.00          43.05\n",
            "2028  Y1Ba2Cu3H0.13O7  0.13          93.50\n",
            "2029  Y1Ba2Cu3H0.19O7  0.19          93.50\n",
            "2030  Y1Ba2Cu3H0.38O7  0.38          93.80\n",
            "2031  Y1Ba2Cu3H0.49O7  0.49          93.60\n",
            "2545   Y1Ba2Cu3H0.2O7  0.20          92.00\n"
          ]
        }
      ]
    },
    {
      "cell_type": "markdown",
      "source": [
        "## 7.\n",
        "¿Cuál es el promedio de la fracción de composición de hidrógeno en los compuestos obtenidos en el ejercicio 6 y qué valores tienen los cuartiles (25%, 50%, 75%) en su temperatura crítica?"
      ],
      "metadata": {
        "id": "-SmXy75YX-F_"
      }
    },
    {
      "cell_type": "code",
      "source": [
        "subset = df.loc[mask]"
      ],
      "metadata": {
        "id": "b51hfPaZYBHK"
      },
      "execution_count": 63,
      "outputs": []
    },
    {
      "cell_type": "code",
      "source": [
        "promedio_H = subset['H'].mean()"
      ],
      "metadata": {
        "id": "og7pBMakYK-C"
      },
      "execution_count": 64,
      "outputs": []
    },
    {
      "cell_type": "code",
      "source": [
        "cuartiles_Tc = subset['critical_temp'].quantile([0.25, 0.5, 0.75])"
      ],
      "metadata": {
        "id": "SnA7QNbvYLoO"
      },
      "execution_count": 65,
      "outputs": []
    },
    {
      "cell_type": "code",
      "source": [
        "print(\"Promedio de la fracción de H:\", promedio_H)\n",
        "print(\"\\nCuartiles de critical_temp:\\n\", cuartiles_Tc)"
      ],
      "metadata": {
        "colab": {
          "base_uri": "https://localhost:8080/"
        },
        "id": "kU4fofGOYM_U",
        "outputId": "15e942b8-098c-4d28-a5d8-cc0d3a584f08"
      },
      "execution_count": 66,
      "outputs": [
        {
          "output_type": "stream",
          "name": "stdout",
          "text": [
            "Promedio de la fracción de H: 1.256847972972973\n",
            "\n",
            "Cuartiles de critical_temp:\n",
            " 0.25     4.37125\n",
            "0.50    13.70000\n",
            "0.75    45.07500\n",
            "Name: critical_temp, dtype: float64\n"
          ]
        }
      ]
    },
    {
      "cell_type": "markdown",
      "source": [
        "## 8.\n",
        "¿Cuántos superconductores con temperatura crítica menor a 80 kelvin tienen en su composición átomos de titanio (Ti) y oxígeno (O)?"
      ],
      "metadata": {
        "id": "oJj_6BA9YVP5"
      }
    },
    {
      "cell_type": "code",
      "source": [
        "df = pd.read_csv(path)\n",
        "for col in ['Ti', 'O', 'critical_temp']:\n",
        "    df[col] = pd.to_numeric(df[col], errors='coerce').fillna(0)"
      ],
      "metadata": {
        "id": "U2W8A9VBYXdm"
      },
      "execution_count": 74,
      "outputs": []
    },
    {
      "cell_type": "markdown",
      "source": [
        "Filtro:"
      ],
      "metadata": {
        "id": "e1fZTbmBYeT7"
      }
    },
    {
      "cell_type": "code",
      "source": [
        "mask = (df['critical_temp'] < 80) & (df['Ti'] > 0) & (df['O'] > 0)\n",
        "subset = df.loc[mask]"
      ],
      "metadata": {
        "id": "3aiOMXnhYcUn"
      },
      "execution_count": 75,
      "outputs": []
    },
    {
      "cell_type": "markdown",
      "source": [
        "Conteo:"
      ],
      "metadata": {
        "id": "9Qa07zxOYflr"
      }
    },
    {
      "cell_type": "code",
      "source": [
        "count = len(subset)\n",
        "\n",
        "print(\"Número de superconductores con Tc < 80K que contienen Ti y O:\", count)"
      ],
      "metadata": {
        "colab": {
          "base_uri": "https://localhost:8080/"
        },
        "id": "6tDJPKuUYf_r",
        "outputId": "904c40c6-1492-4272-bc06-9170d1d020a4"
      },
      "execution_count": 76,
      "outputs": [
        {
          "output_type": "stream",
          "name": "stdout",
          "text": [
            "Número de superconductores con Tc < 80K que contienen Ti y O: 185\n"
          ]
        }
      ]
    },
    {
      "cell_type": "code",
      "source": [
        "cols_to_show = [c for c in ['material','Ti','O','critical_temp'] if c in df.columns]\n",
        "print(subset[cols_to_show].head(10))"
      ],
      "metadata": {
        "colab": {
          "base_uri": "https://localhost:8080/"
        },
        "id": "ic8rZJ2rYhnU",
        "outputId": "c3eccbfe-eeee-473e-d180-848c1ffcb7eb"
      },
      "execution_count": 77,
      "outputs": [
        {
          "output_type": "stream",
          "name": "stdout",
          "text": [
            "                      material     Ti      O  critical_temp\n",
            "69    Sr0.2La1.8Cu0.95Ti0.05O4  0.050  4.000          21.00\n",
            "1983                  Li1Ti1O4  1.000  4.000          12.15\n",
            "2419       Y1Sr2Cu2.7Ti0.3O6.7  0.300  6.700          26.00\n",
            "2420   Y1Sr2Cu2.675Ti0.325O6.6  0.325  6.600          21.00\n",
            "2421     Y1Sr2Cu2.65Ti0.35O6.8  0.350  6.800          21.00\n",
            "2422         Y1Sr2Cu2.7Ti0.3O7  0.300  7.000          58.00\n",
            "2423   Y1Sr2Cu2.675Ti0.325O7.1  0.325  7.100          56.00\n",
            "2424     Y1Sr2Cu2.65Ti0.35O7.1  0.350  7.100          53.00\n",
            "3170     Y1Sr2Cu2.7Ti0.3O7.224  0.300  7.224          35.00\n",
            "3171     Y1Sr2Cu2.7Ti0.3O7.152  0.300  7.152          23.00\n"
          ]
        }
      ]
    }
  ]
}